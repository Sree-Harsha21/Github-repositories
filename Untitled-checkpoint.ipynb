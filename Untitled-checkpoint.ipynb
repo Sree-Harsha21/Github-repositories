{
 "cells": [
  {
   "cell_type": "markdown",
   "id": "8bf97106",
   "metadata": {},
   "source": [
    "# SCRAPING-GITHUB-TOPICS-REPOSITORIES-ROUGH"
   ]
  },
  {
   "cell_type": "code",
   "execution_count": 1,
   "id": "e71e8c08",
   "metadata": {},
   "outputs": [],
   "source": [
    "!pip install requests --upgrade --quiet"
   ]
  },
  {
   "cell_type": "code",
   "execution_count": 2,
   "id": "6910f865",
   "metadata": {},
   "outputs": [],
   "source": [
    "import requests"
   ]
  },
  {
   "cell_type": "code",
   "execution_count": 3,
   "id": "b1271fe0",
   "metadata": {},
   "outputs": [],
   "source": [
    "!pip install beautifulsoup4 --upgrade --quiet"
   ]
  },
  {
   "cell_type": "code",
   "execution_count": 4,
   "id": "8500c31f",
   "metadata": {},
   "outputs": [],
   "source": [
    "from bs4 import BeautifulSoup"
   ]
  },
  {
   "cell_type": "code",
   "execution_count": 5,
   "id": "a37b859d",
   "metadata": {},
   "outputs": [],
   "source": [
    "url='https://github.com/topics'"
   ]
  },
  {
   "cell_type": "code",
   "execution_count": 6,
   "id": "013585cd",
   "metadata": {},
   "outputs": [],
   "source": [
    "response=requests.get(url)"
   ]
  },
  {
   "cell_type": "code",
   "execution_count": 7,
   "id": "15ddfa79",
   "metadata": {},
   "outputs": [],
   "source": [
    "content=response.text"
   ]
  },
  {
   "cell_type": "code",
   "execution_count": 8,
   "id": "62b2a5cd",
   "metadata": {},
   "outputs": [],
   "source": [
    "with open('webpage.html','w',encoding='utf-8') as f:\n",
    "    f.write(content)"
   ]
  },
  {
   "cell_type": "code",
   "execution_count": 9,
   "id": "fc479ef0",
   "metadata": {},
   "outputs": [],
   "source": [
    "doc=BeautifulSoup(content,'html.parser')"
   ]
  },
  {
   "cell_type": "code",
   "execution_count": 10,
   "id": "1cab1b6b",
   "metadata": {},
   "outputs": [],
   "source": [
    "topic_title_tags=doc.find_all('p',{'class':'f3 lh-condensed mb-0 mt-1 Link--primary'})"
   ]
  },
  {
   "cell_type": "code",
   "execution_count": 11,
   "id": "66803743",
   "metadata": {},
   "outputs": [],
   "source": [
    "topic_desc_tags=doc.find_all('p',{'class','f5 color-fg-muted mb-0 mt-1'})"
   ]
  },
  {
   "cell_type": "code",
   "execution_count": 12,
   "id": "723ed20a",
   "metadata": {},
   "outputs": [],
   "source": [
    "topic_link_tags=doc.find_all('a',{'class':'no-underline flex-grow-0'})"
   ]
  },
  {
   "cell_type": "code",
   "execution_count": 13,
   "id": "7ea3fb37",
   "metadata": {},
   "outputs": [],
   "source": [
    "base_url='https://github.com'"
   ]
  },
  {
   "cell_type": "code",
   "execution_count": 14,
   "id": "b6309102",
   "metadata": {},
   "outputs": [],
   "source": [
    "topic_titles=[]\n",
    "for title in topic_title_tags:\n",
    "    topic_titles.append(title.text)"
   ]
  },
  {
   "cell_type": "code",
   "execution_count": 15,
   "id": "56ee1dee",
   "metadata": {},
   "outputs": [],
   "source": [
    "topic_desc=[]\n",
    "for desc in topic_desc_tags:\n",
    "    topic_desc.append(desc.text)"
   ]
  },
  {
   "cell_type": "code",
   "execution_count": 16,
   "id": "87666e4e",
   "metadata": {},
   "outputs": [],
   "source": [
    "topic_urls=[]\n",
    "for url in topic_link_tags:\n",
    "    topic_urls.append(base_url+url['href'])"
   ]
  },
  {
   "cell_type": "code",
   "execution_count": 17,
   "id": "ae697f95",
   "metadata": {},
   "outputs": [],
   "source": [
    "topics={'Title':topic_titles,'Description':topic_desc,'URL':topic_urls}"
   ]
  },
  {
   "cell_type": "code",
   "execution_count": 18,
   "id": "28c74480",
   "metadata": {},
   "outputs": [],
   "source": [
    "import pandas as pd"
   ]
  },
  {
   "cell_type": "code",
   "execution_count": 19,
   "id": "9a614a9a",
   "metadata": {},
   "outputs": [],
   "source": [
    "topics_df=pd.DataFrame(topics)"
   ]
  },
  {
   "cell_type": "code",
   "execution_count": 20,
   "id": "7fa63ef5",
   "metadata": {},
   "outputs": [],
   "source": [
    "topics_df.to_csv('topics.csv')"
   ]
  },
  {
   "cell_type": "markdown",
   "id": "4d804e66",
   "metadata": {},
   "source": [
    "## Getting information out of a topic page"
   ]
  },
  {
   "cell_type": "code",
   "execution_count": 23,
   "id": "d7b573c5",
   "metadata": {},
   "outputs": [],
   "source": [
    "topic0=topic_urls[0]"
   ]
  },
  {
   "cell_type": "code",
   "execution_count": 26,
   "id": "fad97ddd",
   "metadata": {},
   "outputs": [],
   "source": [
    "response=requests.get(topic0)"
   ]
  },
  {
   "cell_type": "code",
   "execution_count": 29,
   "id": "e5b65744",
   "metadata": {},
   "outputs": [],
   "source": [
    "contents=response.text"
   ]
  },
  {
   "cell_type": "code",
   "execution_count": 33,
   "id": "86eb7c35",
   "metadata": {},
   "outputs": [],
   "source": [
    "topic_doc=BeautifulSoup(contents,'html.parser')"
   ]
  },
  {
   "cell_type": "code",
   "execution_count": 57,
   "id": "7617a056",
   "metadata": {},
   "outputs": [],
   "source": [
    "repo_tags=topic_doc.find_all('h3',{'class':'f3 color-fg-muted text-normal lh-condensed'})"
   ]
  },
  {
   "cell_type": "code",
   "execution_count": 58,
   "id": "a69f4323",
   "metadata": {},
   "outputs": [],
   "source": [
    "a_tags=repo_tags[0].find_all('a')"
   ]
  },
  {
   "cell_type": "code",
   "execution_count": 71,
   "id": "970f25a0",
   "metadata": {},
   "outputs": [],
   "source": [
    "un=a_tags[0].text.strip()"
   ]
  },
  {
   "cell_type": "code",
   "execution_count": 72,
   "id": "3262556b",
   "metadata": {},
   "outputs": [],
   "source": [
    "rn=a_tags[1].text.strip()"
   ]
  },
  {
   "cell_type": "code",
   "execution_count": 74,
   "id": "b2511181",
   "metadata": {},
   "outputs": [],
   "source": [
    "link=base_url+a_tags[1]['href']"
   ]
  },
  {
   "cell_type": "code",
   "execution_count": 75,
   "id": "828a3a7f",
   "metadata": {},
   "outputs": [],
   "source": [
    "star_tags=topic_doc.find_all('span',{'class':'Counter js-social-count'})"
   ]
  },
  {
   "cell_type": "code",
   "execution_count": 76,
   "id": "41fbc4d4",
   "metadata": {},
   "outputs": [],
   "source": [
    "def parse_star_count(stars_str):\n",
    "    if stars_str[-1]=='k':\n",
    "        stars_str=float(stars_str[:-1])*1000\n",
    "    return int(stars_str)"
   ]
  },
  {
   "cell_type": "code",
   "execution_count": 78,
   "id": "245ceef5",
   "metadata": {},
   "outputs": [
    {
     "name": "stdout",
     "output_type": "stream",
     "text": [
      "mrdoob three.js https://github.com/mrdoob/three.js 80800\n"
     ]
    }
   ],
   "source": [
    "print(un,rn,link,parse_star_count(star_tags[0].text))"
   ]
  },
  {
   "cell_type": "code",
   "execution_count": 109,
   "id": "653c23af",
   "metadata": {},
   "outputs": [],
   "source": [
    "def repo_info(h_tag,star_tag):\n",
    "    a_tag=h_tag.find_all('a')\n",
    "    un=a_tag[0].text.strip()\n",
    "    rn=a_tag[1].text.strip()\n",
    "    link=base_url+a_tag[1]['href']\n",
    "    stars=parse_star_count(star_tag.text)\n",
    "    return un,rn,stars,link"
   ]
  },
  {
   "cell_type": "code",
   "execution_count": 110,
   "id": "2156a82d",
   "metadata": {},
   "outputs": [
    {
     "data": {
      "text/plain": [
       "('mrdoob', 'three.js', 80800, 'https://github.com/mrdoob/three.js')"
      ]
     },
     "execution_count": 110,
     "metadata": {},
     "output_type": "execute_result"
    }
   ],
   "source": [
    "repo_info(repo_tags[0],star_tags[0])"
   ]
  },
  {
   "cell_type": "code",
   "execution_count": 111,
   "id": "c9c9d8a9",
   "metadata": {},
   "outputs": [],
   "source": [
    "topic_repos_dict={'username':[],'repo_name':[],'stars':[],'repo_url':[]}\n",
    "\n",
    "for i in range(len(repo_tags)):\n",
    "    get_repo_info=repo_info(repo_tags[i],star_tags[i])\n",
    "    topic_repos_dict['username'].append(get_repo_info[0])\n",
    "    topic_repos_dict['repo_name'].append(get_repo_info[1])\n",
    "    topic_repos_dict['stars'].append(get_repo_info[2])\n",
    "    topic_repos_dict['repo_url'].append(get_repo_info[3])\n"
   ]
  },
  {
   "cell_type": "code",
   "execution_count": 112,
   "id": "a35efc75",
   "metadata": {},
   "outputs": [],
   "source": [
    "repo_info_df=pd.DataFrame(topic_repos_dict)"
   ]
  },
  {
   "cell_type": "markdown",
   "id": "deeaa23d",
   "metadata": {},
   "source": [
    "# FINAL CODE"
   ]
  },
  {
   "cell_type": "code",
   "execution_count": 164,
   "id": "247f6d0f",
   "metadata": {},
   "outputs": [],
   "source": [
    "import os\n",
    "\n",
    "def get_topic_page(topic_url):\n",
    "    response=requests.get(topic_url)\n",
    "    if response.status_code!=200:\n",
    "        raise Exception('Failed to load pagec {}'.format(topic_url))\n",
    "        \n",
    "    topic_doc=BeautifulSoup(response.text,'html.parser')\n",
    "    return topic_doc\n",
    "\n",
    "def repo_info(h_tag,star_tag):\n",
    "    a_tag=h_tag.find_all('a')\n",
    "    un=a_tag[0].text.strip()\n",
    "    rn=a_tag[1].text.strip()\n",
    "    link=base_url+a_tag[1]['href']\n",
    "    stars=parse_star_count(star_tag.text)\n",
    "    return un,rn,stars,link\n",
    "\n",
    "def get_topic_repos(topic_doc):\n",
    "    \n",
    "    repo_tags=topic_doc.find_all('h3',{'class':'f3 color-fg-muted text-normal lh-condensed'})\n",
    "    star_tags=topic_doc.find_all('span',{'class':'Counter js-social-count'})\n",
    "    \n",
    "    topic_repos_dict={'username':[],'repo_name':[],'stars':[],'repo_url':[]}\n",
    "    \n",
    "    for i in range(len(repo_tags)):\n",
    "        get_repo_info=repo_info(repo_tags[i],star_tags[i])\n",
    "        topic_repos_dict['username'].append(get_repo_info[0])\n",
    "        topic_repos_dict['repo_name'].append(get_repo_info[1])\n",
    "        topic_repos_dict['stars'].append(get_repo_info[2])\n",
    "        topic_repos_dict['repo_url'].append(get_repo_info[3])\n",
    "    \n",
    "    return pd.DataFrame(topic_repos_dict)\n",
    "\n",
    "def scrape_topic(topic_url,path):\n",
    "    if os.path.exists(path):\n",
    "        print('The file {} already exists. Skipping.....'.format(path))\n",
    "        return\n",
    "    topic_df=get_topic_repos(get_topic_page(topic_url))\n",
    "    topic_df.to_csv(path,index=None)"
   ]
  },
  {
   "cell_type": "markdown",
   "id": "43d41b78",
   "metadata": {},
   "source": [
    "Write a single function to:\n",
    "- Get the list of topics from topics page\n",
    "- Get the list of top repos from the individual topic pages\n",
    "- For each topic, create a CSV file of the top repos for the topic"
   ]
  },
  {
   "cell_type": "code",
   "execution_count": 165,
   "id": "9aec0627",
   "metadata": {},
   "outputs": [],
   "source": [
    "def get_topic_titles(doc):\n",
    "    topic_title_tags=doc.find_all('p',{'class':'f3 lh-condensed mb-0 mt-1 Link--primary'})\n",
    "    topic_titles=[]\n",
    "    for title in topic_title_tags:\n",
    "        topic_titles.append(title.text)\n",
    "    return topic_titles\n",
    "\n",
    "def get_topic_desc(doc):\n",
    "    topic_desc_tags=doc.find_all('p',{'class','f5 color-fg-muted mb-0 mt-1'})\n",
    "    topic_desc=[]\n",
    "    for desc in topic_desc_tags:\n",
    "        topic_desc.append(desc.text)\n",
    "    return topic_desc\n",
    "\n",
    "def get_topic_urls(doc):\n",
    "    topic_link_tags=doc.find_all('a',{'class':'no-underline flex-grow-0'})\n",
    "    base_url='https://github.com'\n",
    "    topic_urls=[]\n",
    "    for url in topic_link_tags:\n",
    "        topic_urls.append(base_url+url['href'])\n",
    "    return topic_urls\n",
    "    \n",
    "def scrape_topics():\n",
    "    topics_url='https://github.com/topics'\n",
    "    response=requests.get(topics_url)\n",
    "    if response.status_code!=200:\n",
    "        raise Exception('Failed to load pagec {}'.format(topic_url))\n",
    "        \n",
    "    topics_dict={'title':get_topic_titles(doc),'description':get_topic_desc(doc),'url':get_topic_urls(doc)}\n",
    "    return pd.DataFrame(topics_dict)\n",
    "\n",
    "\n",
    "        "
   ]
  },
  {
   "cell_type": "code",
   "execution_count": 166,
   "id": "3cc12d02",
   "metadata": {},
   "outputs": [],
   "source": [
    "def scrape_topics_repos():\n",
    "    print('Scraping list of topics')\n",
    "    topics_df=scrape_topics()\n",
    "    os.makedirs('data',exist_ok=True)\n",
    "    for index,row in topics_df.iterrows():\n",
    "        print('Scraping top repositories for \"{}\"'.format(row['title']))\n",
    "        scrape_topic(row['url'],'data/{}.csv'.format(row['title']))"
   ]
  },
  {
   "cell_type": "code",
   "execution_count": 167,
   "id": "109da604",
   "metadata": {},
   "outputs": [
    {
     "name": "stdout",
     "output_type": "stream",
     "text": [
      "Scraping list of topics\n",
      "Scraping top repositories for \"3D\"\n",
      "The file data/3D.csv already exists. Skipping.....\n",
      "Scraping top repositories for \"Ajax\"\n",
      "The file data/Ajax.csv already exists. Skipping.....\n",
      "Scraping top repositories for \"Algorithm\"\n",
      "The file data/Algorithm.csv already exists. Skipping.....\n",
      "Scraping top repositories for \"Amp\"\n",
      "The file data/Amp.csv already exists. Skipping.....\n",
      "Scraping top repositories for \"Android\"\n",
      "The file data/Android.csv already exists. Skipping.....\n",
      "Scraping top repositories for \"Angular\"\n",
      "The file data/Angular.csv already exists. Skipping.....\n",
      "Scraping top repositories for \"Ansible\"\n",
      "The file data/Ansible.csv already exists. Skipping.....\n",
      "Scraping top repositories for \"API\"\n",
      "The file data/API.csv already exists. Skipping.....\n",
      "Scraping top repositories for \"Arduino\"\n",
      "The file data/Arduino.csv already exists. Skipping.....\n",
      "Scraping top repositories for \"ASP.NET\"\n",
      "The file data/ASP.NET.csv already exists. Skipping.....\n",
      "Scraping top repositories for \"Atom\"\n",
      "The file data/Atom.csv already exists. Skipping.....\n",
      "Scraping top repositories for \"Awesome Lists\"\n",
      "The file data/Awesome Lists.csv already exists. Skipping.....\n",
      "Scraping top repositories for \"Amazon Web Services\"\n",
      "The file data/Amazon Web Services.csv already exists. Skipping.....\n",
      "Scraping top repositories for \"Azure\"\n",
      "The file data/Azure.csv already exists. Skipping.....\n",
      "Scraping top repositories for \"Babel\"\n",
      "The file data/Babel.csv already exists. Skipping.....\n",
      "Scraping top repositories for \"Bash\"\n",
      "The file data/Bash.csv already exists. Skipping.....\n",
      "Scraping top repositories for \"Bitcoin\"\n",
      "The file data/Bitcoin.csv already exists. Skipping.....\n",
      "Scraping top repositories for \"Bootstrap\"\n",
      "The file data/Bootstrap.csv already exists. Skipping.....\n",
      "Scraping top repositories for \"Bot\"\n",
      "The file data/Bot.csv already exists. Skipping.....\n",
      "Scraping top repositories for \"C\"\n",
      "The file data/C.csv already exists. Skipping.....\n",
      "Scraping top repositories for \"Chrome\"\n",
      "The file data/Chrome.csv already exists. Skipping.....\n",
      "Scraping top repositories for \"Chrome extension\"\n",
      "The file data/Chrome extension.csv already exists. Skipping.....\n",
      "Scraping top repositories for \"Command line interface\"\n",
      "The file data/Command line interface.csv already exists. Skipping.....\n",
      "Scraping top repositories for \"Clojure\"\n",
      "The file data/Clojure.csv already exists. Skipping.....\n",
      "Scraping top repositories for \"Code quality\"\n",
      "The file data/Code quality.csv already exists. Skipping.....\n",
      "Scraping top repositories for \"Code review\"\n",
      "The file data/Code review.csv already exists. Skipping.....\n",
      "Scraping top repositories for \"Compiler\"\n",
      "The file data/Compiler.csv already exists. Skipping.....\n",
      "Scraping top repositories for \"Continuous integration\"\n",
      "The file data/Continuous integration.csv already exists. Skipping.....\n",
      "Scraping top repositories for \"COVID-19\"\n",
      "The file data/COVID-19.csv already exists. Skipping.....\n",
      "Scraping top repositories for \"C++\"\n",
      "The file data/C++.csv already exists. Skipping.....\n"
     ]
    }
   ],
   "source": [
    "scrape_topics_repos()"
   ]
  },
  {
   "cell_type": "code",
   "execution_count": null,
   "id": "7cc598e0",
   "metadata": {},
   "outputs": [],
   "source": []
  }
 ],
 "metadata": {
  "kernelspec": {
   "display_name": "Python 3 (ipykernel)",
   "language": "python",
   "name": "python3"
  },
  "language_info": {
   "codemirror_mode": {
    "name": "ipython",
    "version": 3
   },
   "file_extension": ".py",
   "mimetype": "text/x-python",
   "name": "python",
   "nbconvert_exporter": "python",
   "pygments_lexer": "ipython3",
   "version": "3.9.7"
  }
 },
 "nbformat": 4,
 "nbformat_minor": 5
}
